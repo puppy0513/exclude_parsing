{
 "cells": [
  {
   "cell_type": "code",
   "execution_count": 20,
   "id": "a7becfa3",
   "metadata": {},
   "outputs": [],
   "source": [
    "import json\n",
    "import sys\n",
    "import copy\n",
    "\n",
    "\n",
    "class filtering: \n",
    "    data_target = {}\n",
    "    data_filter = {}\n",
    "    filter_list = []\n",
    "    \n",
    "    # 전체 테이블\n",
    "    def target(self,filename): \n",
    "        with open('{}.json'.format(filename), 'r') as f:\n",
    "            self.data_target = json.load(f)\n",
    "        return self.data_target\n",
    "\n",
    "    # include 테이블\n",
    "    def filter_data(self,filename):  \n",
    "        with open('{}.json'.format(filename), 'r') as f:\n",
    "            self.data_filter = json.load(f)\n",
    "        \n",
    "        leng = len(self.data_filter)\n",
    "        \n",
    "        self.filter_list = self.data_filter[0]['tables'].split(',')\n",
    "        prefix = 'MYLGDB.'\n",
    "        \n",
    "        \n",
    "        j = 1\n",
    "        for j in range(1,leng):\n",
    "            for i in self.data_filter[j]['tables'].split(','): \n",
    "                self.filter_list.append(prefix + i)  \n",
    "        return self.filter_list\n",
    "    \n",
    "    # 전체 테이블 - include list 계산하기\n",
    "    def calculate(self,filter_1, target): \n",
    "        cont = 0\n",
    "        cnt = 0 \n",
    "        tmp = 0\n",
    "        \n",
    "        remain = copy.deepcopy(filter_1)\n",
    "        leng = len(target['topics'])\n",
    "\n",
    "        for i in filter_1:\n",
    "            cont = 0 \n",
    "            while(cont < leng):\n",
    "                if target['topics'][cont]['name'] == i: \n",
    "                    del(target['topics'][cont])\n",
    "                    remain.remove(i)\n",
    "                    leng -= 1\n",
    "                    cnt += 1\n",
    "                    continue\n",
    "                else: \n",
    "                    cont += 1\n",
    "                    \n",
    "        for count in range(1,len(remain)): \n",
    "            remain[count] = remain[count].replace(\"MYLGDB.\",\"CONDB.\")\n",
    "        \n",
    "        remain_1= copy.deepcopy(remain)\n",
    "        \n",
    "        for i in remain: \n",
    "            di = 0\n",
    "            while(di < leng):\n",
    "                if i == target['topics'][di]['name']:\n",
    "                    del(target['topics'][di])\n",
    "                    remain.remove(i)\n",
    "                    leng -= 1\n",
    "                    cnt += 1\n",
    "                    continue\n",
    "                else: \n",
    "                    di+=1\n",
    "                    \n",
    "        return target"
   ]
  },
  {
   "cell_type": "code",
   "execution_count": 21,
   "id": "ec46b544",
   "metadata": {},
   "outputs": [],
   "source": [
    "h5 = filtering()\n",
    "total_list = h5.target(\"result\")  # json\n",
    "include_list = h5.filter_data(\"connector\")"
   ]
  },
  {
   "cell_type": "code",
   "execution_count": 22,
   "id": "8c7bcde4",
   "metadata": {},
   "outputs": [
    {
     "name": "stdout",
     "output_type": "stream",
     "text": [
      "732\n"
     ]
    }
   ],
   "source": [
    "result = h5.calculate(include_list,total_list)\n",
    "table_leng = len(result['topics'])\n",
    "\n",
    "table_list = []\n",
    "\n",
    "for i in range(0,table_leng):\n",
    "    table_list.append(result['topics'][i]['name'])"
   ]
  },
  {
   "cell_type": "code",
   "execution_count": 23,
   "id": "6580372e",
   "metadata": {},
   "outputs": [],
   "source": [
    "import pickle \n",
    "\n",
    "with open('table.txt', 'w',encoding=\"utf-8\") as lf:\n",
    "    for i in table_list:\n",
    "        lf.write(\"%s\\n\" % i)"
   ]
  },
  {
   "cell_type": "code",
   "execution_count": null,
   "id": "a3c16e08",
   "metadata": {},
   "outputs": [],
   "source": []
  }
 ],
 "metadata": {
  "kernelspec": {
   "display_name": "Python 3 (ipykernel)",
   "language": "python",
   "name": "python3"
  },
  "language_info": {
   "codemirror_mode": {
    "name": "ipython",
    "version": 3
   },
   "file_extension": ".py",
   "mimetype": "text/x-python",
   "name": "python",
   "nbconvert_exporter": "python",
   "pygments_lexer": "ipython3",
   "version": "3.10.4"
  }
 },
 "nbformat": 4,
 "nbformat_minor": 5
}
